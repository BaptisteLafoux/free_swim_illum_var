{
 "cells": [
  {
   "cell_type": "markdown",
   "metadata": {},
   "source": [
    "# A code to quickly check the *trajectory.nc* file content"
   ]
  },
  {
   "cell_type": "markdown",
   "metadata": {},
   "source": [
    "Define here the name of the file to check"
   ]
  },
  {
   "cell_type": "code",
   "execution_count": 1,
   "metadata": {},
   "outputs": [],
   "source": [
    "data_filename = '3_VarLight/2021-12-21/1/trajectory.nc'"
   ]
  },
  {
   "cell_type": "code",
   "execution_count": 8,
   "metadata": {},
   "outputs": [],
   "source": [
    "from ipywidgets import interact, interactive\n",
    "import utilities\n",
    "\n",
    "import ipywidgets as widgets\n",
    "\n",
    "from IPython.display import Markdown, display\n",
    "from datetime import timedelta\n",
    "import xarray as xr\n",
    "import os, sys\n",
    "import glob\n",
    "import cv2\n",
    "import matplotlib.pyplot as plt\n",
    "import numpy as np\n",
    "\n",
    "%matplotlib widget\n"
   ]
  },
  {
   "cell_type": "code",
   "execution_count": 3,
   "metadata": {},
   "outputs": [
    {
     "name": "stdout",
     "output_type": "stream",
     "text": [
      "Video file : /Volumes/baptiste/data_labox/illuminance_variation/1_raw_data/3_VarLight/2021-12-21/1/2021-12-21_noBG.mp4\n",
      "Data file : 3_VarLight/2021-12-21/1/trajectory.nc\n"
     ]
    }
   ],
   "source": [
    "root = '/Users/baptistelafoux/Google Drive/Pro/2020_PMMH_thèse_fish/5_PostProcessing/postProCode/python/free_swim_illum_var/'\n",
    "root_server = '/Volumes/baptiste/data_labox/illuminance_variation/1_raw_data/'\n",
    "\n",
    "original_video_filename = glob.glob(root_server + os.path.dirname(data_filename) + '/*noBG.mp4')[0]\n",
    "\n",
    "ds = xr.open_dataset(root + 'cleaned/' + data_filename)\n",
    "original_video_cap = cv2.VideoCapture(original_video_filename)\n",
    "\n",
    "print('Video file :', original_video_filename)\n",
    "print('Data file :', data_filename)\n",
    "\n"
   ]
  },
  {
   "cell_type": "markdown",
   "metadata": {},
   "source": [
    "Metadatas"
   ]
  },
  {
   "cell_type": "code",
   "execution_count": 4,
   "metadata": {},
   "outputs": [
    {
     "data": {
      "text/markdown": [
       "**Video**"
      ],
      "text/plain": [
       "<IPython.core.display.Markdown object>"
      ]
     },
     "metadata": {},
     "output_type": "display_data"
    },
    {
     "name": "stdout",
     "output_type": "stream",
     "text": [
      "Frame rate : 5 fps\n",
      "Video length : 21002 images (1:10:00)\n"
     ]
    },
    {
     "data": {
      "text/markdown": [
       "**Content**"
      ],
      "text/plain": [
       "<IPython.core.display.Markdown object>"
      ]
     },
     "metadata": {},
     "output_type": "display_data"
    },
    {
     "name": "stdout",
     "output_type": "stream",
     "text": [
      "Number of individuals : 58 fish\n",
      "Average body length : 43.16 pxl\n"
     ]
    }
   ],
   "source": [
    "dt = 1 / ds.fps\n",
    "\n",
    "display(Markdown('**Video**'))\n",
    "print('Frame rate : {} fps'.format(ds.fps))\n",
    "print('Video length : {} images ('.format(ds.n_frames) + str(timedelta(seconds=int(ds.n_frames/ds.fps))) + ')')\n",
    "\n",
    "display(Markdown('**Content**'))\n",
    "print('Number of individuals : {} fish'.format(ds.n_fish))\n",
    "print('Average body length : {:.2f} pxl'.format(ds.mean_BL_pxl))"
   ]
  },
  {
   "cell_type": "code",
   "execution_count": 5,
   "metadata": {},
   "outputs": [
    {
     "data": {
      "application/vnd.jupyter.widget-view+json": {
       "model_id": "6a2340751a584b568cb0c2b09ecaf4f3",
       "version_major": 2,
       "version_minor": 0
      },
      "text/plain": [
       "Canvas(toolbar=Toolbar(toolitems=[('Home', 'Reset original view', 'home', 'home'), ('Back', 'Back to previous …"
      ]
     },
     "metadata": {},
     "output_type": "display_data"
    },
    {
     "data": {
      "application/vnd.jupyter.widget-view+json": {
       "model_id": "292d4168e08a41528a34cfc005585af7",
       "version_major": 2,
       "version_minor": 0
      },
      "text/plain": [
       "interactive(children=(IntSlider(value=101, description='t', max=21001, min=101), Output()), _dom_classes=('wid…"
      ]
     },
     "metadata": {},
     "output_type": "display_data"
    }
   ],
   "source": [
    "trail_len = 5\n",
    "delta_t = 100\n",
    "\n",
    "fig, ax = plt.subplots(1, figsize=(16, 5))\n",
    "\n",
    "ax = [ax]\n",
    "\n",
    "def display_movie(t=trail_len):\n",
    "\n",
    "    ax[0].clear()\n",
    "\n",
    "    original_video_cap.set(cv2.CAP_PROP_POS_FRAMES, t)\n",
    "    _, frame = original_video_cap.read()\n",
    "\n",
    "    ax[0].imshow(frame)\n",
    "    ax[0].invert_yaxis()\n",
    "    ax[0].plot(ds.s[t-trail_len:t, :, 0] * ds.mean_BL_pxl,\n",
    "              ds.s[t-trail_len:t, :, 1] * ds.mean_BL_pxl, linewidth=0.75)\n",
    "    ax[0].plot(ds.s[t, :, 0] * ds.mean_BL_pxl, ds.s[t, :, 1] * ds.mean_BL_pxl, 'k.')\n",
    "\n",
    "    #for focal in range(ds.n_fish):\n",
    "    #   ax[0].annotate(str(focal), (ds.s[t, focal, 0], ds.s[t, focal, 1]), xytext=(2, 5), textcoords='offset points')\n",
    "\n",
    "    #ax[0].axis('scaled')\n",
    "    #ax[0].axis([0, ds.tank_size[0], 0, ds.tank_size[1]])\n",
    "\n",
    "        \n",
    "slider = interactive(display_movie, t=widgets.IntSlider(min=101, max=ds.n_frames-1, step=1))\n",
    "\n",
    "display(slider)\n"
   ]
  },
  {
   "cell_type": "code",
   "execution_count": 56,
   "metadata": {},
   "outputs": [
    {
     "name": "stdout",
     "output_type": "stream",
     "text": [
      "<xarray.DataArray 'ii_dist' ()>\n",
      "array(19714.)\n",
      "(21002, 58)\n",
      "(21002, 58, 2)\n"
     ]
    },
    {
     "data": {
      "application/vnd.jupyter.widget-view+json": {
       "model_id": "9444569deb7f429390979d4662b37edc",
       "version_major": 2,
       "version_minor": 0
      },
      "text/plain": [
       "Canvas(toolbar=Toolbar(toolitems=[('Home', 'Reset original view', 'home', 'home'), ('Back', 'Back to previous …"
      ]
     },
     "metadata": {},
     "output_type": "display_data"
    },
    {
     "data": {
      "application/vnd.jupyter.widget-view+json": {
       "model_id": "58a24ff8c38b4143b222e74a6d56c473",
       "version_major": 2,
       "version_minor": 0
      },
      "text/plain": [
       "Canvas(toolbar=Toolbar(toolitems=[('Home', 'Reset original view', 'home', 'home'), ('Back', 'Back to previous …"
      ]
     },
     "metadata": {},
     "output_type": "display_data"
    },
    {
     "name": "stdout",
     "output_type": "stream",
     "text": [
      "(21002, 58, 2)\n"
     ]
    },
    {
     "name": "stderr",
     "output_type": "stream",
     "text": [
      "/var/folders/6g/_pvh03v53030m1dmqwzw8b0r0000gn/T/ipykernel_19694/1406645278.py:23: RuntimeWarning: invalid value encountered in true_divide\n",
      "  rotation_parameter = np.sum(np.cross(r, v) / (np.linalg.norm(r, axis=2) * (np.linalg.norm(v, axis=2) + 10**(-9))), axis=1) / N\n"
     ]
    },
    {
     "data": {
      "application/vnd.jupyter.widget-view+json": {
       "model_id": "2ce4d8e78f2e4b69923c70ca03c96619",
       "version_major": 2,
       "version_minor": 0
      },
      "text/plain": [
       "Canvas(toolbar=Toolbar(toolitems=[('Home', 'Reset original view', 'home', 'home'), ('Back', 'Back to previous …"
      ]
     },
     "metadata": {},
     "output_type": "display_data"
    },
    {
     "data": {
      "text/plain": [
       "[<matplotlib.lines.Line2D at 0x7fcca390e430>]"
      ]
     },
     "execution_count": 56,
     "metadata": {},
     "output_type": "execute_result"
    }
   ],
   "source": [
    "r = ds.s - ds.center_of_mass\n",
    "v = ds.v\n",
    "N = ds.n_fish\n",
    "\n",
    "R_max = 20\n",
    "i = ds.ii_dist.mean(dim='neighbour') < R_max\n",
    "\n",
    "print(np.sum(i) / 58)\n",
    "\n",
    "print(i.shape) \n",
    "print(r.shape)\n",
    "r *= i\n",
    "v *= i\n",
    "\n",
    "plt.figure()\n",
    "plt.plot(ds.time, np.min(ds.ii_dist.mean(dim=['neighbour', 'fish']))/ds.ii_dist.mean(dim=['neighbour', 'fish']))\n",
    "\n",
    "plt.figure()\n",
    "plt.plot(ds.time, np.linalg.norm(r, axis=-1))\n",
    "print(r.shape)\n",
    "\n",
    "# we add an epilon to the norm of the velocity in case is it 0\n",
    "rotation_parameter = np.sum(np.cross(r, v) / (np.linalg.norm(r, axis=2) * (np.linalg.norm(v, axis=2) + 10**(-9))), axis=1) / N\n",
    "\n",
    "plt.figure()\n",
    "plt.plot(ds.time, rotation_parameter)\n"
   ]
  },
  {
   "cell_type": "code",
   "execution_count": 22,
   "metadata": {},
   "outputs": [
    {
     "data": {
      "text/plain": [
       "13.323806682087389"
      ]
     },
     "execution_count": 22,
     "metadata": {},
     "output_type": "execute_result"
    }
   ],
   "source": []
  },
  {
   "cell_type": "code",
   "execution_count": null,
   "metadata": {},
   "outputs": [],
   "source": []
  }
 ],
 "metadata": {
  "interpreter": {
   "hash": "d5afdb868c841c185d1fb9b4dca35c6504ff32d7e8e57d6647baa696281ce6c2"
  },
  "kernelspec": {
   "display_name": "Python 3.8.8 64-bit ('base': conda)",
   "language": "python",
   "name": "python3"
  },
  "language_info": {
   "codemirror_mode": {
    "name": "ipython",
    "version": 3
   },
   "file_extension": ".py",
   "mimetype": "text/x-python",
   "name": "python",
   "nbconvert_exporter": "python",
   "pygments_lexer": "ipython3",
   "version": "3.8.8"
  },
  "orig_nbformat": 4
 },
 "nbformat": 4,
 "nbformat_minor": 2
}
