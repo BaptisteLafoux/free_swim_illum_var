{
 "cells": [
  {
   "cell_type": "code",
   "execution_count": 2,
   "metadata": {},
   "outputs": [],
   "source": [
    "path = '/Volumes/baptiste/data_labox/illuminance_variation/1_raw_data/3_VarLight/2022-01-06/1/data'\n",
    "import matplotlib.pyplot as plt \n",
    "import numpy as np \n",
    "import glob \n",
    "import natsort \n",
    "all = natsort.natsorted(glob.glob(path + '/*.tiff'))\n"
   ]
  },
  {
   "cell_type": "code",
   "execution_count": 17,
   "metadata": {},
   "outputs": [
    {
     "data": {
      "application/vnd.jupyter.widget-view+json": {
       "model_id": "e37a71fa818e46b28456498da92abf7c",
       "version_major": 2,
       "version_minor": 0
      },
      "text/plain": [
       "Canvas(toolbar=Toolbar(toolitems=[('Home', 'Reset original view', 'home', 'home'), ('Back', 'Back to previous …"
      ]
     },
     "metadata": {},
     "output_type": "display_data"
    },
    {
     "data": {
      "text/plain": [
       "True"
      ]
     },
     "execution_count": 17,
     "metadata": {},
     "output_type": "execute_result"
    }
   ],
   "source": [
    "%matplotlib widget\n",
    "\n",
    "import cv2 \n",
    "\n",
    "im = plt.imread(all[3790])\n",
    "im_cropped = np.array(im[30:1000, 50:1500])\n",
    "\n",
    "\n",
    "mask = (im_cropped < 120)\n",
    "im_finale = im_cropped * mask\n",
    "\n",
    "\n",
    "rgba = np.array([mask, mask, mask, 255 - im_finale]).T \n",
    "\n",
    "fig, ax = plt.subplots(figsize=(20, 12))\n",
    "ax.imshow(rgba)\n",
    "\n",
    "cv2.imwrite(\"test.png\", rgba)"
   ]
  },
  {
   "cell_type": "code",
   "execution_count": 6,
   "metadata": {},
   "outputs": [
    {
     "data": {
      "text/plain": [
       "array([[ 7,  6,  7, ..., 17, 17, 16],\n",
       "       [ 7,  9,  8, ..., 18, 16, 17],\n",
       "       [ 7,  7,  8, ..., 18, 17, 17],\n",
       "       ...,\n",
       "       [ 6,  6,  6, ...,  9,  8,  8],\n",
       "       [ 5,  5,  6, ...,  8,  8,  8],\n",
       "       [ 7,  5,  5, ...,  8,  7,  9]], dtype=uint8)"
      ]
     },
     "execution_count": 6,
     "metadata": {},
     "output_type": "execute_result"
    }
   ],
   "source": [
    "im "
   ]
  },
  {
   "cell_type": "code",
   "execution_count": null,
   "metadata": {},
   "outputs": [],
   "source": []
  }
 ],
 "metadata": {
  "interpreter": {
   "hash": "d5afdb868c841c185d1fb9b4dca35c6504ff32d7e8e57d6647baa696281ce6c2"
  },
  "kernelspec": {
   "display_name": "Python 3.8.12 ('base')",
   "language": "python",
   "name": "python3"
  },
  "language_info": {
   "codemirror_mode": {
    "name": "ipython",
    "version": 3
   },
   "file_extension": ".py",
   "mimetype": "text/x-python",
   "name": "python",
   "nbconvert_exporter": "python",
   "pygments_lexer": "ipython3",
   "version": "3.8.12"
  },
  "orig_nbformat": 4
 },
 "nbformat": 4,
 "nbformat_minor": 2
}
